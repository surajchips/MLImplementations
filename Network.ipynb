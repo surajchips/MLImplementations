{
 "cells": [
  {
   "cell_type": "code",
   "execution_count": 155,
   "id": "c8b9c6e4-e116-41f9-903d-a1390136d63f",
   "metadata": {},
   "outputs": [],
   "source": [
    "import math\n",
    "import types\n",
    "import warnings\n",
    "import random\n",
    "import matplotlib.pyplot as plt\n",
    "from matplotlib.patches import Circle"
   ]
  },
  {
   "cell_type": "code",
   "execution_count": 256,
   "id": "dcb2de30-71cb-499c-9b37-ad073d57823d",
   "metadata": {},
   "outputs": [],
   "source": [
    "class Node:\n",
    "    def __init__(self, num=0, activation = None):\n",
    "        self.activation = activation\n",
    "        self.num = num\n",
    "def sigmoid(x):\n",
    "    if(x > 20): return 1\n",
    "    if(x < -20): return 0\n",
    "    return 1/(1+math.exp(-1*x))\n",
    "def derSigmoid(y):\n",
    "    return y*(1-y)\n",
    "def reLu(x):\n",
    "    if x > 0 and x < 1: return x\n",
    "    if x < 0: return x/1000\n",
    "    return 1+(x-1)/1000\n",
    "def deReLu(y):\n",
    "    if y > 0 and y < 1: return 1\n",
    "    return 0.001\n",
    "\n",
    "class Network:\n",
    "    def __init__(self, N, M, F = sigmoid, DF = derSigmoid):\n",
    "        self.N = N\n",
    "        self.M = M\n",
    "        self.network = dict()\n",
    "        self.bias = []\n",
    "        self.nodeNum = N+M\n",
    "        self.layers = []\n",
    "        self.layers.append([a for a in range(self.N)])\n",
    "        self.layers.append([a+self.N for a in range(self.M)])\n",
    "        self.lr = 0.02\n",
    "        self.F = F\n",
    "        self.DF = DF\n",
    "        print(self.F == sigmoid)\n",
    "    def print(self):\n",
    "        print(self.order)\n",
    "        print(self.network)\n",
    "    def create(self, layerSizes):\n",
    "        last = self.layers[-1]\n",
    "        self.layers.pop()\n",
    "        for i in range(len(layerSizes)): \n",
    "            self.layers.append([a+self.nodeNum for a in range(layerSizes[i])])\n",
    "            self.nodeNum += layerSizes[i]\n",
    "        self.layers.append(last)\n",
    "        for i in range(1, len(self.layers)):\n",
    "            for b in self.layers[i]:\n",
    "                for a in self.layers[i-1]:\n",
    "                    self.network[(a, b)] = random.normalvariate()\n",
    "        for i in range(self.nodeNum):\n",
    "            self.bias.append(random.normalvariate(1, 1))\n",
    "    def calculate(self, inputs):\n",
    "        values = {}\n",
    "        for i in range(self.N):\n",
    "            values[i] = inputs[i]\n",
    "        for L in range(1, len(self.layers)):\n",
    "            for i in self.layers[L]:\n",
    "                s = self.bias[i]+sum([values[a]*self.network[(a, i)] for a in self.layers[L-1]])\n",
    "                values[i] = self.F(s)\n",
    "        return values\n",
    "    def backPropogation(self, values, answer):\n",
    "        der = {}\n",
    "        netDer = {}\n",
    "        biasDer = {}\n",
    "        for i in range(self.M):\n",
    "            der[i+self.N] = values[i+self.N]-answer[i]\n",
    "        for L in range(len(self.layers)-1, 0, -1):\n",
    "            for a in self.layers[L-1]:\n",
    "                der[a] = 0.0\n",
    "            for b in self.layers[L]:\n",
    "                #D = values[b]*(1-values[b])\n",
    "                D = self.DF(values[b])\n",
    "                for a in self.layers[L-1]:\n",
    "                    netDer[(a, b)] = der[b]*D*values[a]\n",
    "                    der[a] += der[b]*D*self.network[(a, b)]\n",
    "                biasDer[b] = der[b]*D\n",
    "        return (netDer, biasDer)\n",
    "    def getLoss(self, inputs, outputs):\n",
    "        L=0.0\n",
    "        for g in range(len(inputs)):\n",
    "            values = self.calculate(inputs[g])\n",
    "            for i in range(self.M):\n",
    "                d = values[i+self.N]-outputs[g][i]\n",
    "                L += 0.5*d*d\n",
    "        return L\n",
    "    def updateNetwork(self, netDer, biasDer, descent = True):\n",
    "        mult = 1\n",
    "        if not descent: mult = -1\n",
    "        for a in self.network:\n",
    "            self.network[a] -= self.lr*netDer[a]*mult\n",
    "        for b in biasDer:\n",
    "            self.bias[b] -= self.lr*biasDer[b]*mult\n",
    "    def drawNode(x, y, num, ax):\n",
    "        text = str(num)\n",
    "        box = ax.text(x, y, text, ha=\"center\", va=\"center\", fontsize=18)\n",
    "        circle = Circle((x, y), 0.03, facecolor=\"skyblue\", edgecolor=\"black\", zorder=2)\n",
    "        ax.add_patch(circle)\n",
    "    def draw(self):\n",
    "        fig = plt.figure(figsize=(5, 5))\n",
    "        ax = fig.add_subplot()\n",
    "        radius = 0.03\n",
    "\n",
    "        centers = dict()\n",
    "        L = len(self.layers)\n",
    "        g = (1.0-2*L*radius)/(L+1)\n",
    "        g += 2*radius\n",
    "        X = g-radius\n",
    "        for i in range(len(self.layers)):\n",
    "            print(self.layers[i])\n",
    "            L = len(self.layers[i])\n",
    "            gy = (1.0-2*L*radius)/(L+1)\n",
    "            gy += 2*radius\n",
    "            Y = gy-radius\n",
    "            for e in range(len(self.layers[i])-1, -1, -1):\n",
    "                centers[self.layers[i][e]] = (X, Y)\n",
    "                Y += gy\n",
    "            X += g\n",
    "        for i in range(self.nodeNum):\n",
    "            Network.drawNode(centers[i][0], centers[i][1], i, ax)\n",
    "        for i, e in self.network:\n",
    "            w = self.network[(i, e)]\n",
    "            X1, Y1 = centers[i]\n",
    "            X2, Y2 = centers[e]\n",
    "            color = \"blue\"\n",
    "            if w < 0.0:\n",
    "                color = \"red\"\n",
    "            ax.plot([X1, X2], [Y1, Y2], color=color, zorder=1)\n",
    "        \n",
    "        \n",
    "        "
   ]
  },
  {
   "cell_type": "code",
   "execution_count": 257,
   "id": "da354f98-ab11-4c51-b1f4-91dad399a3ee",
   "metadata": {},
   "outputs": [],
   "source": [
    "\n",
    "def trainGeneration(net, inputs, outputs):\n",
    "    ders = []\n",
    "    for g in range(len(inputs)):\n",
    "        values = net.calculate(inputs[g])\n",
    "        ders.append(net.backPropogation(values, outputs[g]))\n",
    "    for g in range(len(inputs)):\n",
    "        netDer = ders[g][0]\n",
    "        biasDer = ders[g][1]\n",
    "        net.updateNetwork(netDer, biasDer)\n",
    "\n",
    "def trainGeneration2(net, inputs, outputs):\n",
    "    pass"
   ]
  },
  {
   "cell_type": "code",
   "execution_count": 258,
   "id": "7e2650e8-5f80-405a-8a3d-e24ab32b136c",
   "metadata": {},
   "outputs": [
    {
     "name": "stdout",
     "output_type": "stream",
     "text": [
      "True\n",
      "[0, 1]\n",
      "[3, 4, 5]\n",
      "[6, 7]\n",
      "[2]\n"
     ]
    },
    {
     "data": {
      "image/png": "[encoded data removed]",
      "text/plain": [
       "<Figure size 500x500 with 1 Axes>"
      ]
     },
     "metadata": {},
     "output_type": "display_data"
    }
   ],
   "source": [
    "nn = Network(2, 1)\n",
    "nn.create([3, 2])\n",
    "nn.draw()"
   ]
  },
  {
   "cell_type": "code",
   "execution_count": 259,
   "id": "5bc462bd-4de8-401a-8630-d94ed8e69a02",
   "metadata": {},
   "outputs": [
    {
     "data": {
      "text/plain": [
       "'\\nnn.network[(0, 3)] = 10.0\\nnn.network[(1, 3)] = 10.0\\nnn.bias[3] = -5\\nnn.network[(0, 4)] = 10.0\\nnn.network[(1, 4)] = 10.0\\nnn.bias[4] = -15\\nnn.network[(3, 2)] = 10.0\\nnn.network[(4, 2)] = -20.0\\nnn.bias[2] = -5\\n'"
      ]
     },
     "execution_count": 259,
     "metadata": {},
     "output_type": "execute_result"
    }
   ],
   "source": [
    "values = nn.calculate([1, 1])\n",
    "\"\"\"\n",
    "nn.network[(0, 3)] = 10.0\n",
    "nn.network[(1, 3)] = 10.0\n",
    "nn.bias[3] = -5\n",
    "nn.network[(0, 4)] = 10.0\n",
    "nn.network[(1, 4)] = 10.0\n",
    "nn.bias[4] = -15\n",
    "nn.network[(3, 2)] = 10.0\n",
    "nn.network[(4, 2)] = -20.0\n",
    "nn.bias[2] = -5\n",
    "\"\"\"\n"
   ]
  },
  {
   "cell_type": "code",
   "execution_count": 260,
   "id": "b565c8de-55f2-4b2c-85a1-863173d13090",
   "metadata": {},
   "outputs": [
    {
     "name": "stdout",
     "output_type": "stream",
     "text": [
      "gen\n",
      "gen\n",
      "gen\n",
      "gen\n",
      "gen\n",
      "gen\n",
      "gen\n",
      "gen\n",
      "gen\n",
      "gen\n",
      "gen\n",
      "gen\n",
      "gen\n",
      "gen\n",
      "gen\n",
      "gen\n",
      "gen\n",
      "gen\n"
     ]
    }
   ],
   "source": [
    "inputs = [[0, 0], [0, 1], [1, 0], [1, 1]]\n",
    "outputs = [[0], [1], [1], [0]]\n",
    "L = 99\n",
    "oL = 100\n",
    "while L/oL < 0.9999 and L > 0.001:\n",
    "    print(\"gen\")\n",
    "    oL = L\n",
    "    L = 1000\n",
    "    for i in range(10000):\n",
    "        trainGeneration(nn, inputs, outputs)\n",
    "        L = min(L, nn.getLoss(inputs, outputs))"
   ]
  },
  {
   "cell_type": "code",
   "execution_count": 261,
   "id": "ae2bdd66-0457-44f0-87b7-ade6c53d5df1",
   "metadata": {},
   "outputs": [
    {
     "name": "stdout",
     "output_type": "stream",
     "text": [
      "{0: 0, 1: 0, 3: 0.974911658861997, 4: 0.14400873905566597, 5: 0.9364949296173242, 6: 0.959103143943873, 7: 0.08743527218659994, 2: 0.02236657515437308}\n",
      "{0: 0, 1: 1, 3: 0.9998822746798502, 4: 0.8564689384947092, 5: 0.9824725032373477, 6: 0.9466624289076291, 7: 0.8855954794849116, 2: 0.9782780545695698}\n",
      "{0: 1, 1: 0, 3: 0.11301160603079896, 4: 0.003231021502756188, 5: 0.9823502605579941, 6: 0.9337796370544836, 7: 0.9043165960606508, 2: 0.9824826968801337}\n",
      "{0: 1, 1: 1, 3: 0.96533530305381, 4: 0.10311637415384939, 5: 0.9952954243007939, 6: 0.9623133373707395, 7: 0.08114867580848575, 2: 0.020885965568499157}\n",
      "0.0008575930318703077\n"
     ]
    }
   ],
   "source": [
    "values = [None]*len(inputs)\n",
    "for e in range(4):\n",
    "    values[e] = nn.calculate(inputs[e])\n",
    "    print(values[e])\n",
    "print(nn.getLoss(inputs, outputs))"
   ]
  },
  {
   "cell_type": "code",
   "execution_count": 249,
   "id": "289af91f-f9d9-4d3d-bbdc-9eb8503b7e75",
   "metadata": {},
   "outputs": [
    {
     "name": "stdout",
     "output_type": "stream",
     "text": [
      "True\n",
      "gen 99\n",
      "gen 0.9996594245973576\n",
      "gen 0.9992415107333754\n",
      "gen 0.9982596909921513\n",
      "gen 0.9940362103602303\n",
      "gen 0.9428661347480419\n",
      "gen 0.8727288148041331\n",
      "gen 0.8631159350901956\n",
      "gen 0.8603566458707621\n",
      "gen 0.8589920083351218\n",
      "gen 0.8576914914325724\n",
      "gen 0.7000377106530091\n",
      "gen 0.3822104753417098\n",
      "gen 0.013931787464367696\n"
     ]
    }
   ],
   "source": [
    "nn = Network(3, 1)\n",
    "nn.create([2, 2, 2])\n",
    "inputs = [[0, 0, 0], [0, 1, 0], [1, 0, 0], [1, 1, 0], [0, 0, 1], [0, 1, 1], [1, 0, 1], [1, 1, 1]]\n",
    "outputs = [[0], [1], [1], [0], [1], [0], [0], [1]]\n",
    "L = 99\n",
    "oL = 100\n",
    "while L/oL < 0.9999 and L > 0.01:\n",
    "    print(\"gen\", L)\n",
    "    oL = L\n",
    "    L = 1000\n",
    "    for i in range(10000):\n",
    "        trainGeneration(nn, inputs, outputs)\n",
    "        L = min(L, nn.getLoss(inputs, outputs))"
   ]
  },
  {
   "cell_type": "code",
   "execution_count": 250,
   "id": "ae7ad1e2-c0ac-4ff1-b540-5e965a4c32e5",
   "metadata": {},
   "outputs": [
    {
     "name": "stdout",
     "output_type": "stream",
     "text": [
      "0.03425164549492117\n",
      "0.9651192182095116\n",
      "0.9650818913679288\n",
      "0.04171226299063958\n",
      "0.9457406712835817\n",
      "0.034763833729155855\n",
      "0.03476036286073068\n",
      "0.9743483970071626\n",
      "0.0056839589011416815\n"
     ]
    }
   ],
   "source": [
    "values = [None]*len(inputs)\n",
    "for e in range(8):\n",
    "    values[e] = nn.calculate(inputs[e])\n",
    "    print(values[e][3])\n",
    "print(nn.getLoss(inputs, outputs))"
   ]
  },
  {
   "cell_type": "code",
   "execution_count": 84,
   "id": "e48b8258-ede4-4224-bf6d-9debe95182bb",
   "metadata": {},
   "outputs": [
    {
     "name": "stdout",
     "output_type": "stream",
     "text": [
      "0.501461532325917\n",
      "0.49882831813777057\n",
      "0.500928201911681\n",
      "0.49817667469164045\n",
      "0.5016350240484031\n",
      "0.4994026386422936\n",
      "0.5009481020032994\n",
      "0.49860942282461146\n",
      "1.0000007692381496\n"
     ]
    }
   ],
   "source": [
    "for i in range(10000):\n",
    "    nn.trainGeneration(inputs, outputs)\n",
    "values = [None]*len(inputs)\n",
    "for e in range(8):\n",
    "    values[e] = nn.calculate(inputs[e])\n",
    "    print(values[e][3])\n",
    "print(nn.getLoss(inputs, outputs))"
   ]
  },
  {
   "cell_type": "code",
   "execution_count": 247,
   "id": "2b4f8010-bb1e-438f-a17b-e9ee8808e608",
   "metadata": {},
   "outputs": [
    {
     "name": "stdout",
     "output_type": "stream",
     "text": [
      "False\n",
      "gen 99\n",
      "gen 0.8571423759717779\n"
     ]
    }
   ],
   "source": [
    "nn = Network(3, 1, reLu, deReLu)\n",
    "nn.create([5, 3, 2, 2])\n",
    "inputs = [[0, 0, 0], [0, 1, 0], [1, 0, 0], [1, 1, 0], [0, 0, 1], [0, 1, 1], [1, 0, 1], [1, 1, 1]]\n",
    "outputs = [[0], [1], [1], [0], [1], [0], [0], [1]]\n",
    "L = 99\n",
    "oL = 100\n",
    "while L/oL < 0.9999 and L > 0.01:\n",
    "    print(\"gen\", L)\n",
    "    oL = L\n",
    "    L = 1000\n",
    "    for i in range(10000):\n",
    "        trainGeneration(nn, inputs, outputs)\n",
    "        L = min(L, nn.getLoss(inputs, outputs))"
   ]
  },
  {
   "cell_type": "code",
   "execution_count": 248,
   "id": "9761915b-bed4-439e-8e55-5c8e526e1165",
   "metadata": {},
   "outputs": [
    {
     "name": "stdout",
     "output_type": "stream",
     "text": [
      "0.4285697635355738\n",
      "0.42857171116034676\n",
      "1.000008349427685\n",
      "0.4285717829500817\n",
      "0.42857117391574584\n",
      "0.428571776169743\n",
      "0.4285717830813447\n",
      "0.4285717894106009\n",
      "0.8571423742170599\n"
     ]
    }
   ],
   "source": [
    "values = [None]*len(inputs)\n",
    "for e in range(8):\n",
    "    values[e] = nn.calculate(inputs[e])\n",
    "    print(values[e][3])\n",
    "print(nn.getLoss(inputs, outputs))"
   ]
  },
  {
   "cell_type": "code",
   "execution_count": 74,
   "id": "e3cb52a7-e0cf-4749-8fe3-cb7228775c19",
   "metadata": {},
   "outputs": [
    {
     "name": "stdout",
     "output_type": "stream",
     "text": [
      "0.24999993849807745\n",
      "1.000000099823542\n",
      "0.25000051258792927\n",
      "0.2499999217112368\n",
      "1.00000041626383\n",
      "-0.0006608795642597042\n",
      "0.24999979455034202\n",
      "0.999999991311312\n",
      "0.3749997476301155\n"
     ]
    }
   ],
   "source": [
    "for i in range(100000):\n",
    "    nn.trainGeneration(inputs, outputs)\n",
    "values = [None]*len(inputs)\n",
    "for e in range(8):\n",
    "    values[e] = nn.calculate(inputs[e])\n",
    "    print(values[e][3])\n",
    "print(nn.getLoss(inputs, outputs))"
   ]
  },
  {
   "cell_type": "code",
   "execution_count": 230,
   "id": "43c0bf85-f238-45f9-b4f2-e88c58cbfe06",
   "metadata": {},
   "outputs": [
    {
     "name": "stdout",
     "output_type": "stream",
     "text": [
      "-1.0 -0.001 0.001\n",
      "-0.8 -0.0008 0.001\n",
      "-0.6000000000000001 -0.0006000000000000001 0.001\n",
      "-0.4000000000000001 -0.0004000000000000001 0.001\n",
      "-0.20000000000000007 -0.00020000000000000006 0.001\n",
      "-5.551115123125783e-17 -5.551115123125783e-20 0.001\n",
      "0.19999999999999996 0.19999999999999996 1\n",
      "0.39999999999999997 0.39999999999999997 1\n",
      "0.6 0.6 1\n",
      "0.8 0.8 1\n",
      "1.0 1.0 0.001\n",
      "1.2 1.0002 0.001\n",
      "1.4 1.0004 0.001\n",
      "1.5999999999999999 1.0006 0.001\n",
      "1.7999999999999998 1.0008 0.001\n",
      "1.9999999999999998 1.001 0.001\n"
     ]
    }
   ],
   "source": [
    "i = -1.0\n",
    "while i < 2.0:\n",
    "    print(i, reLu(i), deReLu(i))\n",
    "    i += 0.2\n",
    "    "
   ]
  },
  {
   "cell_type": "code",
   "execution_count": null,
   "id": "8630a127-fecc-4758-80eb-e18232f704d9",
   "metadata": {},
   "outputs": [],
   "source": []
  }
 ],
 "metadata": {
  "kernelspec": {
   "display_name": "Python 3 (ipykernel)",
   "language": "python",
   "name": "python3"
  },
  "language_info": {
   "codemirror_mode": {
    "name": "ipython",
    "version": 3
   },
   "file_extension": ".py",
   "mimetype": "text/x-python",
   "name": "python",
   "nbconvert_exporter": "python",
   "pygments_lexer": "ipython3",
   "version": "3.12.1"
  }
 },
 "nbformat": 4,
 "nbformat_minor": 5
}
